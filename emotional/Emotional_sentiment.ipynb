{
 "cells": [
  {
   "cell_type": "code",
   "execution_count": null,
   "id": "e035ce99",
   "metadata": {},
   "outputs": [],
   "source": [
    "import pandas as pd\n",
    "import re\n",
    "from transformers import AutoTokenizer, AutoModelForSequenceClassification\n",
    "import torch"
   ]
  },
  {
   "cell_type": "markdown",
   "id": "9d4a5e64",
   "metadata": {},
   "source": [
    "## 读取数据并导入离线模型"
   ]
  },
  {
   "cell_type": "code",
   "execution_count": null,
   "id": "91907e80",
   "metadata": {},
   "outputs": [],
   "source": [
    "dataframe = pd.read_csv('processed_2.csv')\n",
    "model_name_or_path = \"./local_model\"\n",
    "# 加载分词器和模型\n",
    "tokenizer = AutoTokenizer.from_pretrained(model_name_or_path)\n",
    "model = AutoModelForSequenceClassification.from_pretrained(model_name_or_path)"
   ]
  },
  {
   "cell_type": "markdown",
   "id": "59bd8221",
   "metadata": {},
   "source": [
    "## 函数定义"
   ]
  },
  {
   "cell_type": "code",
   "execution_count": null,
   "id": "4c9d1dd5",
   "metadata": {},
   "outputs": [],
   "source": [
    "def get_sentiment(text):\n",
    "    inputs = tokenizer(text, return_tensors=\"pt\")\n",
    "    with torch.no_grad():\n",
    "        outputs = model(**inputs)\n",
    "    probs = torch.nn.functional.softmax(outputs.logits, dim=-1)\n",
    "    negative_prob = probs[0][0].item()  # 假设第一个标签是负面情感\n",
    "    return negative_prob\n",
    "# 情感获取\n",
    "def sentiment(list):\n",
    "    negative_prob = []\n",
    "    for item in list:\n",
    "        if isinstance(item, str):\n",
    "            negative = get_sentiment(item)\n",
    "            negative_prob.append(negative)\n",
    "        else:\n",
    "            negative_prob.append(None)\n",
    "    return negative_prob\n",
    "\n",
    "# 标题文本处理\n",
    "def process_title(data):\n",
    "    titles = []\n",
    "    for title in data:\n",
    "        if isinstance(title, str):\n",
    "            if title[:4] == \"慈善募捐\":\n",
    "                titles.append(title[7:-7])\n",
    "            else:\n",
    "                titles.append(title)\n",
    "        else:\n",
    "            titles.append(title)\n",
    "    return titles\n",
    "\n",
    "# 项目介绍文本处理\n",
    "def process_detail(data):\n",
    "    patterns = [\n",
    "        r\"（[^（）]*?图[^（）]*?）\",\n",
    "        r\"【[^【】]*?图[^【】]*?】\",\n",
    "        r\"（[^（）]*?照片[^（）]*?）\",\n",
    "        r\"【[^【】]*?照片[^【】]*?】\",\n",
    "    ]\n",
    "    photo = []  # 照片数量\n",
    "    detail_ = []  # 剔除这类信息后的文本\n",
    "    details = []  # 最终返回的文本\n",
    "    for detail in data:\n",
    "        if isinstance(detail, str):\n",
    "            match = []\n",
    "            for pattern in patterns:\n",
    "                match = match + re.findall(pattern, detail, flags=0)\n",
    "                detail = re.sub(pattern, \"\", detail)\n",
    "            photo.append(len(match))\n",
    "            detail_.append(detail)\n",
    "        else:\n",
    "            detail_.append(\"\")\n",
    "            photo.append(0)\n",
    "    for detail in detail_:\n",
    "        if detail != \"\":\n",
    "            text = \"\".join(detail.split(r\"', '\"))\n",
    "            details.append(text)\n",
    "        else:\n",
    "            details.append(detail)\n",
    "    return photo, details"
   ]
  },
  {
   "cell_type": "markdown",
   "id": "3f954251",
   "metadata": {},
   "source": [
    "## 数据处理"
   ]
  },
  {
   "cell_type": "markdown",
   "id": "3f70d3cc",
   "metadata": {},
   "source": [
    "### 一起跑（后面的就不用跑了）"
   ]
  },
  {
   "cell_type": "code",
   "execution_count": null,
   "id": "d0b354cb",
   "metadata": {},
   "outputs": [],
   "source": [
    "# Title\n",
    "titles = process_title(dataframe['项目名称'].tolist())\n",
    "TEmo = sentiment(titles)\n",
    "dataframe['TEmo'] = TEmo\n",
    "\n",
    "# Brief\n",
    "briefs = dataframe['项目简介'].tolist()\n",
    "BEmo = sentiment(briefs)\n",
    "dataframe['BEmo'] = BEmo\n",
    "\n",
    "# Detail\n",
    "_, details = process_detail(dataframe['项目介绍'].tolist())\n",
    "detail_short = [detail[:500] for detail in details]\n",
    "DEmo = sentiment(detail_short)\n",
    "\n",
    "dataframe['DEmo'] = DEmo\n",
    "\n",
    "# 数据存到新的csv里面\n",
    "dataframe.to_csv(r\"precessed_3.csv\", index=False)"
   ]
  }
 ],
 "metadata": {
  "kernelspec": {
   "display_name": "base",
   "language": "python",
   "name": "python3"
  },
  "language_info": {
   "codemirror_mode": {
    "name": "ipython",
    "version": 3
   },
   "file_extension": ".py",
   "mimetype": "text/x-python",
   "name": "python",
   "nbconvert_exporter": "python",
   "pygments_lexer": "ipython3",
   "version": "3.11.7"
  }
 },
 "nbformat": 4,
 "nbformat_minor": 5
}
